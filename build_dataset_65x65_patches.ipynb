{
 "cells": [
  {
   "cell_type": "markdown",
   "metadata": {},
   "source": [
    "Extracting patches from images from ImageNet, KonIQ, and Visual Genome datasets. \n",
    "\n",
    "The patches are taken to be around some (randomly chosen) keypoints\n",
    "detected by FAST detector.\n",
    "\n",
    "The total amount of patches is 125k, and the ratio between training, \n",
    "validation, and test set is 8 : 1 : 1.\n",
    "\n",
    "This code is copied from [learned-brief repository](https://github.com/nimpy/learned-brief)."
   ]
  },
  {
   "cell_type": "code",
   "execution_count": null,
   "metadata": {},
   "outputs": [],
   "source": [
    "from os import listdir\n",
    "from os import system\n",
    "import os\n",
    "import random\n",
    "import numpy as np\n",
    "import imageio\n",
    "import cv2\n",
    "import math\n",
    "\n",
    "# from PIL import Image\n",
    "# import matplotlib.pyplot as plt"
   ]
  },
  {
   "cell_type": "code",
   "execution_count": null,
   "metadata": {},
   "outputs": [],
   "source": [
    "dir_from = '/scratch/image_datasets/imagenet'\n",
    "dir_all = '/scratch/image_datasets/3_65x65/ready/all'\n",
    "patch_size = 65\n",
    "# patch_radius = ceil(patch_size) -- used to check if a patch_size x patch_size patch \n",
    "#                                    around a keypoint is within the borders of the image\n",
    "patch_radius = 33  \n",
    "zfill_param = 6\n",
    "stride = 8\n",
    "patches_filename = '65x65'\n",
    "\n",
    "flickr_fail_image = cv2.imread(dir_from + '/n00005787_71', 0)"
   ]
  },
  {
   "cell_type": "code",
   "execution_count": null,
   "metadata": {},
   "outputs": [],
   "source": [
    "fast = cv2.FastFeatureDetector_create()"
   ]
  },
  {
   "cell_type": "code",
   "execution_count": null,
   "metadata": {},
   "outputs": [],
   "source": []
  },
  {
   "cell_type": "code",
   "execution_count": null,
   "metadata": {},
   "outputs": [],
   "source": [
    "# imagenet"
   ]
  },
  {
   "cell_type": "code",
   "execution_count": null,
   "metadata": {
    "scrolled": true
   },
   "outputs": [],
   "source": [
    "counter = 0\n",
    "\n",
    "dir_from = '/scratch/image_datasets/imagenet'\n",
    "files = listdir(dir_from)\n",
    "files_nr = len(files)\n",
    "print(files_nr)\n",
    "\n",
    "random.shuffle(files)\n",
    "for i in range(files_nr):\n",
    "    try:\n",
    "        image = imageio.imread(dir_from + '/' + files[i])\n",
    "        image = cv2.cvtColor(image, cv2.COLOR_RGB2GRAY)\n",
    "    except Exception as e:\n",
    "        print(i, e)\n",
    "        continue\n",
    "    \n",
    "    if image.shape == flickr_fail_image.shape and image[0].all() == flickr_fail_image[0].all() and image[1].all() == flickr_fail_image[1].all():\n",
    "        print(\"Found Flickr fail image at\", i)\n",
    "        continue\n",
    "    \n",
    "    image = np.array(image)\n",
    "\n",
    "    keypoints = fast.detect(image, None)\n",
    "    random.shuffle(keypoints)\n",
    "    \n",
    "    # number of patches to be extracted from this image (calculated based on the image and patch size)\n",
    "    total_nr_patches_in_this_image = int(math.floor(math.sqrt((image.shape[0] * image.shape[1]) / (patch_size**2)) / 2))\n",
    "    print(\"total_nr_patches_in_this_image\", total_nr_patches_in_this_image)\n",
    "\n",
    "    counter_patches_in_this_image = 0\n",
    "    for j, keypoint in enumerate(keypoints):\n",
    "        keypoint = keypoints[j]\n",
    "        x = int(keypoint.pt[1])\n",
    "        y = int(keypoint.pt[0])\n",
    "        \n",
    "        # if the patch of size 56 x 56 around the keypoint completely fits inside the image\n",
    "        if (x > patch_radius) and (x < image.shape[0] - patch_radius) and (y > patch_radius) and (y < image.shape[1] - patch_radius):\n",
    "            patch = image[x - patch_radius: x + patch_radius, y - patch_radius: y + patch_radius]\n",
    "\n",
    "            imageio.imwrite(dir_all + '/patch_' + patches_filename + '_' + str(counter).zfill(zfill_param) + '.bmp', patch)\n",
    "            counter_patches_in_this_image += 1\n",
    "            counter += 1\n",
    "            if counter_patches_in_this_image >= total_nr_patches_in_this_image:\n",
    "                break\n"
   ]
  },
  {
   "cell_type": "code",
   "execution_count": null,
   "metadata": {},
   "outputs": [],
   "source": [
    "counter"
   ]
  },
  {
   "cell_type": "code",
   "execution_count": null,
   "metadata": {},
   "outputs": [],
   "source": []
  },
  {
   "cell_type": "code",
   "execution_count": null,
   "metadata": {},
   "outputs": [],
   "source": [
    "# koniq"
   ]
  },
  {
   "cell_type": "code",
   "execution_count": null,
   "metadata": {
    "scrolled": true
   },
   "outputs": [],
   "source": [
    "counter = XXX\n",
    "\n",
    "dir_from = '/scratch/image_datasets/koniq/1024x768/'\n",
    "files = listdir(dir_from)\n",
    "files_nr = len(files)\n",
    "print(files_nr)\n",
    "\n",
    "random.shuffle(files)\n",
    "for i in range(files_nr):\n",
    "    try:\n",
    "        image = imageio.imread(dir_from + '/' + files[i])\n",
    "        image = cv2.cvtColor(image, cv2.COLOR_RGB2GRAY)\n",
    "    except Exception as e:\n",
    "        print(i, e)\n",
    "        continue\n",
    "    \n",
    "    if image.shape == flickr_fail_image.shape and image[0].all() == flickr_fail_image[0].all() and image[1].all() == flickr_fail_image[1].all():\n",
    "        print(\"Found Flickr fail image at\", i)\n",
    "        continue\n",
    "    \n",
    "    image = np.array(image)\n",
    "\n",
    "    keypoints = fast.detect(image, None)\n",
    "    random.shuffle(keypoints)\n",
    "    \n",
    "    # number of patches to be extracted from this image (calculated based on the image and patch size)\n",
    "    total_nr_patches_in_this_image = int(math.floor(math.sqrt((image.shape[0] * image.shape[1]) / (patch_size**2)) / 2))\n",
    "    print(\"total_nr_patches_in_this_image\", total_nr_patches_in_this_image)\n",
    "\n",
    "    counter_patches_in_this_image = 0\n",
    "    for j, keypoint in enumerate(keypoints):\n",
    "        keypoint = keypoints[j]\n",
    "        x = int(keypoint.pt[1])\n",
    "        y = int(keypoint.pt[0])\n",
    "        \n",
    "        # if the patch of size patch_size x patch_size around the keypoint completely fits inside the image\n",
    "        if (x > patch_radius) and (x < image.shape[0] - patch_radius) and (y > patch_radius) and (y < image.shape[1] - patch_radius):\n",
    "            patch = image[x - patch_radius: x + patch_radius, y - patch_radius: y + patch_radius]\n",
    "\n",
    "            imageio.imwrite(dir_all + '/patch_' + patches_filename + '_' + str(counter).zfill(zfill_param) + '.bmp', patch)\n",
    "            counter_patches_in_this_image += 1\n",
    "            counter += 1\n",
    "            if counter_patches_in_this_image >= total_nr_patches_in_this_image:\n",
    "                break\n"
   ]
  },
  {
   "cell_type": "code",
   "execution_count": null,
   "metadata": {},
   "outputs": [],
   "source": [
    "counter"
   ]
  },
  {
   "cell_type": "code",
   "execution_count": null,
   "metadata": {},
   "outputs": [],
   "source": []
  },
  {
   "cell_type": "code",
   "execution_count": null,
   "metadata": {},
   "outputs": [],
   "source": [
    "# visual genome VG_100K/"
   ]
  },
  {
   "cell_type": "code",
   "execution_count": null,
   "metadata": {},
   "outputs": [],
   "source": [
    "counter = XXX\n",
    "\n",
    "dir_from = '/scratch/image_datasets/visualgenome/VG_100K/'\n",
    "files = listdir(dir_from)\n",
    "files_nr = len(files)\n",
    "print(files_nr)\n",
    "\n",
    "random.shuffle(files)\n",
    "for i in range(files_nr):\n",
    "    try:\n",
    "        image = imageio.imread(dir_from + '/' + files[i])\n",
    "        image = cv2.cvtColor(image, cv2.COLOR_RGB2GRAY)\n",
    "    except Exception as e:\n",
    "        print(i, e)\n",
    "        continue\n",
    "    \n",
    "    if image.shape == flickr_fail_image.shape and image[0].all() == flickr_fail_image[0].all() and image[1].all() == flickr_fail_image[1].all():\n",
    "        print(\"Found Flickr fail image at\", i)\n",
    "        continue\n",
    "    \n",
    "    image = np.array(image)\n",
    "\n",
    "    keypoints = fast.detect(image, None)\n",
    "    random.shuffle(keypoints)\n",
    "    \n",
    "    # number of patches to be extracted from this image (calculated based on the image and patch size)\n",
    "    total_nr_patches_in_this_image = int(math.floor(math.sqrt((image.shape[0] * image.shape[1]) / (patch_size**2)) / 2))\n",
    "    print(\"total_nr_patches_in_this_image\", total_nr_patches_in_this_image)\n",
    "\n",
    "    counter_patches_in_this_image = 0\n",
    "    for j, keypoint in enumerate(keypoints):\n",
    "        keypoint = keypoints[j]\n",
    "        x = int(keypoint.pt[1])\n",
    "        y = int(keypoint.pt[0])\n",
    "        \n",
    "        # if the patch of size patch_size x patch_size around the keypoint completely fits inside the image\n",
    "        if (x > patch_radius) and (x < image.shape[0] - patch_radius) and (y > patch_radius) and (y < image.shape[1] - patch_radius):\n",
    "            patch = image[x - patch_radius: x + patch_radius, y - patch_radius: y + patch_radius]\n",
    "\n",
    "            imageio.imwrite(dir_all + '/patch_' + patches_filename + '_' + str(counter).zfill(zfill_param) + '.bmp', patch)\n",
    "            counter_patches_in_this_image += 1\n",
    "            counter += 1\n",
    "            if counter_patches_in_this_image >= total_nr_patches_in_this_image:\n",
    "                break\n",
    "    if counter >= 125000:\n",
    "        print('Got more than 125000 patches!')\n",
    "        break\n"
   ]
  },
  {
   "cell_type": "code",
   "execution_count": null,
   "metadata": {},
   "outputs": [],
   "source": []
  },
  {
   "cell_type": "code",
   "execution_count": null,
   "metadata": {},
   "outputs": [],
   "source": []
  },
  {
   "cell_type": "code",
   "execution_count": null,
   "metadata": {},
   "outputs": [],
   "source": [
    "# distribute the patches into train, validation and test directories, with 8 : 1 : 1 ratio"
   ]
  },
  {
   "cell_type": "code",
   "execution_count": null,
   "metadata": {},
   "outputs": [],
   "source": [
    "dir_base = '/scratch/image_datasets/3_65x65/ready'\n",
    "dir_train = dir_base + '/train/class0'\n",
    "dir_validation = dir_base + '/validation/class0'\n",
    "dir_test = dir_base + '/test/class0'\n",
    "\n",
    "files = os.listdir(dir_all)\n",
    "files_count = len(files)\n",
    "\n",
    "random.shuffle(files)\n",
    "\n",
    "cutoff1 = int(files_count * 0.8)\n",
    "cutoff2 = int(files_count * 0.9)\n",
    "cutoff3 = files_count\n",
    "\n",
    "print(\"Moving to train/\")\n",
    "for i in range(cutoff1):\n",
    "    os.system(\"mv \" + dir_all + \"/\" + files[i] + \" \" + dir_train + \"/\" + files[i])\n",
    "\n",
    "print(\"Moving to validation/\")\n",
    "for i in range(cutoff1, cutoff2):\n",
    "    os.system(\"mv \" + dir_all + \"/\" + files[i] + \" \" + dir_validation + \"/\" + files[i])\n",
    "\n",
    "print(\"Moving to test/\")\n",
    "for i in range(cutoff2, cutoff3):\n",
    "    os.system(\"mv \" + dir_all + \"/\" + files[i] + \" \" + dir_test + \"/\" + files[i])"
   ]
  },
  {
   "cell_type": "code",
   "execution_count": null,
   "metadata": {},
   "outputs": [],
   "source": []
  }
 ],
 "metadata": {
  "kernelspec": {
   "display_name": "Python (cv)",
   "language": "python",
   "name": "cv"
  },
  "language_info": {
   "codemirror_mode": {
    "name": "ipython",
    "version": 3
   },
   "file_extension": ".py",
   "mimetype": "text/x-python",
   "name": "python",
   "nbconvert_exporter": "python",
   "pygments_lexer": "ipython3",
   "version": "3.7.3"
  }
 },
 "nbformat": 4,
 "nbformat_minor": 2
}