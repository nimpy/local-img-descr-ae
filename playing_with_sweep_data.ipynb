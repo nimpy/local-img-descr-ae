{
 "cells": [
  {
   "cell_type": "code",
   "execution_count": 1,
   "id": "grateful-municipality",
   "metadata": {},
   "outputs": [],
   "source": [
    "import pandas as pd\n",
    "import numpy as np\n",
    "import os"
   ]
  },
  {
   "cell_type": "code",
   "execution_count": 2,
   "id": "growing-configuration",
   "metadata": {},
   "outputs": [],
   "source": [
    "sweep_df = pd.read_csv(os.path.join('/home/niaki/Downloads/1Sweep2RuleEmALL.csv'))"
   ]
  },
  {
   "cell_type": "code",
   "execution_count": 3,
   "id": "substantial-operations",
   "metadata": {},
   "outputs": [],
   "source": [
    "hpatches_overall = sweep_df['hpatches_overall']\n",
    "mse = sweep_df['mse']\n",
    "ssim = sweep_df['ssim']"
   ]
  },
  {
   "cell_type": "code",
   "execution_count": 4,
   "id": "boxed-overall",
   "metadata": {},
   "outputs": [
    {
     "data": {
      "text/plain": [
       "array([[1.       , 0.2082757],\n",
       "       [0.2082757, 1.       ]])"
      ]
     },
     "execution_count": 4,
     "metadata": {},
     "output_type": "execute_result"
    }
   ],
   "source": [
    "np.corrcoef(hpatches_overall, mse)"
   ]
  },
  {
   "cell_type": "code",
   "execution_count": 5,
   "id": "american-supplement",
   "metadata": {},
   "outputs": [
    {
     "data": {
      "text/plain": [
       "array([[1.        , 0.82544729],\n",
       "       [0.82544729, 1.        ]])"
      ]
     },
     "execution_count": 5,
     "metadata": {},
     "output_type": "execute_result"
    }
   ],
   "source": [
    "np.corrcoef(hpatches_overall, ssim)"
   ]
  },
  {
   "cell_type": "code",
   "execution_count": 6,
   "id": "periodic-latex",
   "metadata": {
    "scrolled": true
   },
   "outputs": [
    {
     "name": "stdout",
     "output_type": "stream",
     "text": [
      "royal-sweep-8\n",
      "wise-sweep-7\n",
      "usual-sweep-4\n",
      "revived-sweep-3\n",
      "astral-sweep-24\n",
      "pretty-sweep-23\n",
      "eager-sweep-20\n",
      "true-sweep-19\n",
      "sandy-sweep-16\n",
      "laced-sweep-15\n",
      "lyric-sweep-12\n",
      "solar-sweep-11\n",
      "astral-sweep-8\n",
      "eager-sweep-7\n",
      "lilac-sweep-4\n",
      "mild-sweep-3\n",
      "hopeful-sweep-64\n",
      "splendid-sweep-63\n",
      "blooming-sweep-62\n",
      "easy-sweep-61\n",
      "helpful-sweep-60\n",
      "pretty-sweep-59\n",
      "dry-sweep-58\n",
      "frosty-sweep-57\n",
      "silver-sweep-56\n",
      "still-sweep-55\n",
      "bumbling-sweep-54\n",
      "efficient-sweep-53\n",
      "smart-sweep-52\n",
      "royal-sweep-51\n",
      "rose-sweep-50\n",
      "dry-sweep-49\n",
      "pretty-sweep-48\n",
      "bumbling-sweep-47\n",
      "ruby-sweep-46\n",
      "confused-sweep-45\n",
      "amber-sweep-44\n",
      "astral-sweep-43\n",
      "clear-sweep-42\n",
      "cerulean-sweep-41\n",
      "devoted-sweep-40\n",
      "spring-sweep-39\n",
      "toasty-sweep-38\n",
      "glamorous-sweep-37\n",
      "smart-sweep-36\n",
      "woven-sweep-35\n",
      "sweepy-sweep-34\n",
      "comic-sweep-33\n",
      "dazzling-sweep-32\n",
      "scarlet-sweep-31\n",
      "grateful-sweep-30\n",
      "silver-sweep-29\n",
      "likely-sweep-28\n",
      "clear-sweep-27\n",
      "ruby-sweep-26\n",
      "giddy-sweep-25\n",
      "skilled-sweep-24\n",
      "tough-sweep-23\n",
      "exalted-sweep-22\n",
      "comic-sweep-21\n",
      "lemon-sweep-20\n",
      "apricot-sweep-19\n",
      "hopeful-sweep-18\n",
      "floral-sweep-17\n",
      "fresh-sweep-16\n",
      "graceful-sweep-15\n",
      "trim-sweep-14\n",
      "quiet-sweep-13\n",
      "copper-sweep-12\n",
      "fearless-sweep-11\n",
      "confused-sweep-10\n",
      "visionary-sweep-9\n",
      "lunar-sweep-8\n",
      "electric-sweep-7\n",
      "dainty-sweep-6\n",
      "fresh-sweep-5\n",
      "exalted-sweep-4\n",
      "glad-sweep-3\n",
      "misunderstood-sweep-2\n",
      "stellar-sweep-1\n"
     ]
    }
   ],
   "source": [
    "for index, row in sweep_df.iterrows():\n",
    "    print(row['Name'])"
   ]
  },
  {
   "cell_type": "code",
   "execution_count": 7,
   "id": "systematic-paintball",
   "metadata": {
    "scrolled": true
   },
   "outputs": [
    {
     "name": "stdout",
     "output_type": "stream",
     "text": [
      "Name\n",
      "Runtime\n",
      "num_epochs\n",
      "activation_fn\n",
      "data_augm_level\n",
      "latent_size\n",
      "loss_fn\n",
      "vae_beta_norm\n",
      "variational\n",
      "hpatches_overall\n",
      "matching_overall\n",
      "retrieval_overall\n",
      "verification_overall\n",
      "mse\n",
      "psnr\n",
      "ssim\n",
      "loss\n",
      "matching.e\n",
      "matching.h\n",
      "matching.t\n",
      "retrieval.e.100\n",
      "retrieval.e.1000\n",
      "retrieval.e.10000\n",
      "retrieval.e.15000\n",
      "retrieval.e.20000\n",
      "retrieval.e.500\n",
      "retrieval.e.5000\n",
      "retrieval.e.mean\n",
      "retrieval.h.100\n",
      "retrieval.h.1000\n",
      "retrieval.h.10000\n",
      "retrieval.h.15000\n",
      "retrieval.h.20000\n",
      "retrieval.h.500\n",
      "retrieval.h.5000\n",
      "retrieval.h.mean\n",
      "retrieval.mean.100\n",
      "retrieval.mean.1000\n",
      "retrieval.mean.10000\n",
      "retrieval.mean.15000\n",
      "retrieval.mean.20000\n",
      "retrieval.mean.500\n",
      "retrieval.mean.5000\n",
      "retrieval.t.100\n",
      "retrieval.t.1000\n",
      "retrieval.t.10000\n",
      "retrieval.t.15000\n",
      "retrieval.t.20000\n",
      "retrieval.t.500\n",
      "retrieval.t.5000\n",
      "retrieval.t.mean\n",
      "verification.e.inter.balanced.auc\n",
      "verification.e.inter.imbalanced.ap\n",
      "verification.e.intra.balanced.auc\n",
      "verification.e.intra.imbalanced.ap\n",
      "verification.h.inter.balanced.auc\n",
      "verification.h.inter.imbalanced.ap\n",
      "verification.h.intra.balanced.auc\n",
      "verification.h.intra.imbalanced.ap\n",
      "verification.mean.inter.balanced.auc\n",
      "verification.mean.inter.imbalanced.ap\n",
      "verification.mean.inter.mean\n",
      "verification.mean.intra.balanced.auc\n",
      "verification.mean.intra.imbalanced.ap\n",
      "verification.mean.intra.mean\n",
      "verification.t.inter.balanced.auc\n",
      "verification.t.inter.imbalanced.ap\n",
      "verification.t.intra.balanced.auc\n",
      "verification.t.intra.imbalanced.ap\n",
      "val_loss\n",
      "val_mse\n"
     ]
    }
   ],
   "source": [
    "for table_head in sweep_df:\n",
    "    print(table_head)"
   ]
  },
  {
   "cell_type": "code",
   "execution_count": 8,
   "id": "adapted-satellite",
   "metadata": {
    "scrolled": true
   },
   "outputs": [
    {
     "name": "stdout",
     "output_type": "stream",
     "text": [
      "royal-sweep-8\n",
      "wise-sweep-7\n",
      "usual-sweep-4\n",
      "revived-sweep-3\n",
      "devoted-sweep-40\n",
      "spring-sweep-39\n",
      "toasty-sweep-38\n",
      "glamorous-sweep-37\n",
      "smart-sweep-36\n",
      "woven-sweep-35\n",
      "sweepy-sweep-34\n",
      "comic-sweep-33\n",
      "lunar-sweep-8\n",
      "electric-sweep-7\n",
      "dainty-sweep-6\n",
      "fresh-sweep-5\n",
      "exalted-sweep-4\n",
      "glad-sweep-3\n",
      "misunderstood-sweep-2\n",
      "stellar-sweep-1\n"
     ]
    }
   ],
   "source": [
    "for row in sweep_df.itertuples():\n",
    "    if row.data_augm_level == 0:\n",
    "        print(row.Name)\n",
    "#         print(row)"
   ]
  },
  {
   "cell_type": "code",
   "execution_count": 9,
   "id": "synthetic-timber",
   "metadata": {},
   "outputs": [
    {
     "data": {
      "text/plain": [
       "Pandas(Index=0, Name='royal-sweep-8', Runtime=31060, num_epochs=400, activation_fn='relu', data_augm_level=0, latent_size=32, loss_fn='msssim', vae_beta_norm=0.0, variational=0, hpatches_overall=0.3545690273, matching_overall=0.1267631091, retrieval_overall=0.3068372607, verification_overall=0.6301067119, mse=0.01317608025, psnr=18.28709319, ssim=0.3911444105, loss=-0.8098895885, _18=0.2526714815, _19=0.09178368452, _20=0.03583416126, _21=0.6886335452, _22=0.5088266451, _23=0.3779855582, _24=0.3577376901, _25=0.3448784574, _26=0.5562929528, _27=0.4158528682, _28=0.4643153846, _29=0.5486368285, _30=0.3144296758, _31=0.1849678154, _32=0.1686636639, _33=0.1588899426, _34=0.3701683318, _35=0.2185455028, _36=0.2806145251, _37=0.5539036393, _38=0.3381635249, _39=0.2190221399, _40=0.2034473419, _41=0.1938620061, _42=0.3889342844, _43=0.2505282164, _44=0.4244405499, _45=0.1912342542, _46=0.09411307253, _47=0.08394070675, _48=0.07781753111, _49=0.2403415376, _50=0.1171862981, _51=0.1755820215, _52=0.834033845, _53=0.6570178164, _54=0.8004833228, _55=0.5758297097, _56=0.769878345, _57=0.5291116597, _58=0.72985799, _59=0.4400967238, _60=0.7762221787, _61=0.5458142678, _62=0.6610182232, _63=0.7377244854, _64=0.4606659159, _65=0.5991952007, _66=0.7247543462, _67=0.4513133272, _68=0.6828321434, _69=0.3660713142, val_loss=-0.8084245576, val_mse=0.01326824259)"
      ]
     },
     "execution_count": 9,
     "metadata": {},
     "output_type": "execute_result"
    }
   ],
   "source": [
    "next(sweep_df.itertuples())"
   ]
  },
  {
   "cell_type": "code",
   "execution_count": 10,
   "id": "grand-proxy",
   "metadata": {},
   "outputs": [
    {
     "data": {
      "text/plain": [
       "Pandas(Name='royal-sweep-8', Runtime=31060, num_epochs=400, activation_fn='relu', data_augm_level=0, latent_size=32, loss_fn='msssim', vae_beta_norm=0.0, variational=0, hpatches_overall=0.3545690273, matching_overall=0.1267631091, retrieval_overall=0.3068372607, verification_overall=0.6301067119, mse=0.01317608025, psnr=18.28709319, ssim=0.3911444105, loss=-0.8098895885, _17=0.2526714815, _18=0.09178368452, _19=0.03583416126, _20=0.6886335452, _21=0.5088266451, _22=0.3779855582, _23=0.3577376901, _24=0.3448784574, _25=0.5562929528, _26=0.4158528682, _27=0.4643153846, _28=0.5486368285, _29=0.3144296758, _30=0.1849678154, _31=0.1686636639, _32=0.1588899426, _33=0.3701683318, _34=0.2185455028, _35=0.2806145251, _36=0.5539036393, _37=0.3381635249, _38=0.2190221399, _39=0.2034473419, _40=0.1938620061, _41=0.3889342844, _42=0.2505282164, _43=0.4244405499, _44=0.1912342542, _45=0.09411307253, _46=0.08394070675, _47=0.07781753111, _48=0.2403415376, _49=0.1171862981, _50=0.1755820215, _51=0.834033845, _52=0.6570178164, _53=0.8004833228, _54=0.5758297097, _55=0.769878345, _56=0.5291116597, _57=0.72985799, _58=0.4400967238, _59=0.7762221787, _60=0.5458142678, _61=0.6610182232, _62=0.7377244854, _63=0.4606659159, _64=0.5991952007, _65=0.7247543462, _66=0.4513133272, _67=0.6828321434, _68=0.3660713142, val_loss=-0.8084245576, val_mse=0.01326824259)"
      ]
     },
     "execution_count": 10,
     "metadata": {},
     "output_type": "execute_result"
    }
   ],
   "source": [
    "next(sweep_df.itertuples(index=False))  # doesn't assign Index field"
   ]
  },
  {
   "cell_type": "code",
   "execution_count": 11,
   "id": "individual-uganda",
   "metadata": {
    "scrolled": true
   },
   "outputs": [
    {
     "data": {
      "text/plain": [
       "('royal-sweep-8',\n",
       " 31060,\n",
       " 400,\n",
       " 'relu',\n",
       " 0,\n",
       " 32,\n",
       " 'msssim',\n",
       " 0.0,\n",
       " 0,\n",
       " 0.3545690273,\n",
       " 0.1267631091,\n",
       " 0.3068372607,\n",
       " 0.6301067119,\n",
       " 0.01317608025,\n",
       " 18.28709319,\n",
       " 0.3911444105,\n",
       " -0.8098895885,\n",
       " 0.2526714815,\n",
       " 0.09178368452,\n",
       " 0.03583416126,\n",
       " 0.6886335452,\n",
       " 0.5088266451,\n",
       " 0.3779855582,\n",
       " 0.3577376901,\n",
       " 0.3448784574,\n",
       " 0.5562929528,\n",
       " 0.4158528682,\n",
       " 0.4643153846,\n",
       " 0.5486368285,\n",
       " 0.3144296758,\n",
       " 0.1849678154,\n",
       " 0.1686636639,\n",
       " 0.1588899426,\n",
       " 0.3701683318,\n",
       " 0.2185455028,\n",
       " 0.2806145251,\n",
       " 0.5539036393,\n",
       " 0.3381635249,\n",
       " 0.2190221399,\n",
       " 0.2034473419,\n",
       " 0.1938620061,\n",
       " 0.3889342844,\n",
       " 0.2505282164,\n",
       " 0.4244405499,\n",
       " 0.1912342542,\n",
       " 0.09411307253,\n",
       " 0.08394070675,\n",
       " 0.07781753111,\n",
       " 0.2403415376,\n",
       " 0.1171862981,\n",
       " 0.1755820215,\n",
       " 0.834033845,\n",
       " 0.6570178164,\n",
       " 0.8004833228,\n",
       " 0.5758297097,\n",
       " 0.769878345,\n",
       " 0.5291116597,\n",
       " 0.72985799,\n",
       " 0.4400967238,\n",
       " 0.7762221787,\n",
       " 0.5458142678,\n",
       " 0.6610182232,\n",
       " 0.7377244854,\n",
       " 0.4606659159,\n",
       " 0.5991952007,\n",
       " 0.7247543462,\n",
       " 0.4513133272,\n",
       " 0.6828321434,\n",
       " 0.3660713142,\n",
       " -0.8084245576,\n",
       " 0.01326824259)"
      ]
     },
     "execution_count": 11,
     "metadata": {},
     "output_type": "execute_result"
    }
   ],
   "source": [
    "next(sweep_df.itertuples(index=False, name=None))  # returns a tuple"
   ]
  },
  {
   "cell_type": "code",
   "execution_count": null,
   "id": "loaded-particle",
   "metadata": {},
   "outputs": [],
   "source": []
  },
  {
   "cell_type": "code",
   "execution_count": null,
   "id": "dynamic-reading",
   "metadata": {},
   "outputs": [],
   "source": []
  },
  {
   "cell_type": "code",
   "execution_count": 12,
   "id": "discrete-uruguay",
   "metadata": {},
   "outputs": [],
   "source": [
    "def find_row_with_inputs(activation_fn, data_augm_level, loss_fn, vae_beta_norm):\n",
    "    for row in sweep_df.itertuples():\n",
    "        if row.activation_fn == activation_fn and row.data_augm_level == data_augm_level and \\\n",
    "             row.loss_fn == loss_fn and row.vae_beta_norm == vae_beta_norm:\n",
    "            print(row.Name)\n",
    "            return row"
   ]
  },
  {
   "cell_type": "code",
   "execution_count": 13,
   "id": "synthetic-triumph",
   "metadata": {},
   "outputs": [
    {
     "name": "stdout",
     "output_type": "stream",
     "text": [
      "royal-sweep-8\n"
     ]
    }
   ],
   "source": [
    "row = find_row_with_inputs('relu', 0, 'msssim', 0.0)"
   ]
  },
  {
   "cell_type": "code",
   "execution_count": 14,
   "id": "trying-reduction",
   "metadata": {},
   "outputs": [
    {
     "data": {
      "text/plain": [
       "400"
      ]
     },
     "execution_count": 14,
     "metadata": {},
     "output_type": "execute_result"
    }
   ],
   "source": [
    "row.num_epochs"
   ]
  },
  {
   "cell_type": "code",
   "execution_count": null,
   "id": "romance-integration",
   "metadata": {},
   "outputs": [],
   "source": []
  },
  {
   "cell_type": "code",
   "execution_count": null,
   "id": "immune-samoa",
   "metadata": {},
   "outputs": [],
   "source": []
  }
 ],
 "metadata": {
  "kernelspec": {
   "display_name": "Python (torch)",
   "language": "python",
   "name": "torch"
  },
  "language_info": {
   "codemirror_mode": {
    "name": "ipython",
    "version": 3
   },
   "file_extension": ".py",
   "mimetype": "text/x-python",
   "name": "python",
   "nbconvert_exporter": "python",
   "pygments_lexer": "ipython3",
   "version": "3.7.2"
  }
 },
 "nbformat": 4,
 "nbformat_minor": 5
}
